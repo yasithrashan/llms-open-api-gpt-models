{
  "nbformat": 4,
  "nbformat_minor": 0,
  "metadata": {
    "colab": {
      "provenance": []
    },
    "kernelspec": {
      "name": "python3",
      "display_name": "Python 3"
    },
    "language_info": {
      "name": "python"
    }
  },
  "cells": [
    {
      "cell_type": "markdown",
      "source": [
        "# Setting up the API"
      ],
      "metadata": {
        "id": "GyUeql7ga0O7"
      }
    },
    {
      "cell_type": "code",
      "source": [
        "import openai"
      ],
      "metadata": {
        "id": "48SkWHmmXywF"
      },
      "execution_count": 5,
      "outputs": []
    },
    {
      "cell_type": "code",
      "source": [
        "from google.colab import userdata\n",
        "\n",
        "openai.api_key = userdata.get('apikey')"
      ],
      "metadata": {
        "id": "c9fUTsGhYDM3"
      },
      "execution_count": 12,
      "outputs": []
    },
    {
      "cell_type": "markdown",
      "source": [
        "# Generate text"
      ],
      "metadata": {
        "id": "yQJxfypqa5k-"
      }
    },
    {
      "cell_type": "code",
      "source": [
        "def genearate_text(prompt):\n",
        "    api_key = userdata.get(\"apikey\")\n",
        "    client = openai.OpenAI(api_key=api_key)\n",
        "    response = client.completions.create(\n",
        "        model=\"davinci-002\",\n",
        "        prompt=prompt,\n",
        "        max_tokens=10,\n",
        "        temperature=0.7\n",
        "    )\n",
        "    return response.choices[0].text.strip()"
      ],
      "metadata": {
        "id": "DHmZ3wSrYnXG"
      },
      "execution_count": 21,
      "outputs": []
    },
    {
      "cell_type": "code",
      "source": [
        "prompt='Once a upon a time'"
      ],
      "metadata": {
        "id": "B1gZSS5RamLf"
      },
      "execution_count": 22,
      "outputs": []
    },
    {
      "cell_type": "code",
      "source": [
        "generated_text=genearate_text(prompt)\n",
        "print(prompt,generated_text)"
      ],
      "metadata": {
        "id": "YWQYhdX6bHpX"
      },
      "execution_count": null,
      "outputs": []
    }
  ]
}